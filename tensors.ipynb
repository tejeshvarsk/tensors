{
  "nbformat": 4,
  "nbformat_minor": 0,
  "metadata": {
    "colab": {
      "provenance": [],
      "gpuType": "T4",
      "authorship_tag": "ABX9TyP8HQULU0uLBSEeEWifKVun",
      "include_colab_link": true
    },
    "kernelspec": {
      "name": "python3",
      "display_name": "Python 3"
    },
    "language_info": {
      "name": "python"
    },
    "accelerator": "GPU"
  },
  "cells": [
    {
      "cell_type": "markdown",
      "metadata": {
        "id": "view-in-github",
        "colab_type": "text"
      },
      "source": [
        "<a href=\"https://colab.research.google.com/github/tejeshvarsk/tensors/blob/main/tensors.ipynb\" target=\"_parent\"><img src=\"https://colab.research.google.com/assets/colab-badge.svg\" alt=\"Open In Colab\"/></a>"
      ]
    },
    {
      "cell_type": "code",
      "source": [
        "import torch"
      ],
      "metadata": {
        "id": "qUNLBCYFpefE"
      },
      "execution_count": null,
      "outputs": []
    },
    {
      "cell_type": "code",
      "source": [
        "import numpy as np"
      ],
      "metadata": {
        "id": "MmKvGhhap7sj"
      },
      "execution_count": null,
      "outputs": []
    },
    {
      "cell_type": "code",
      "source": [
        "np_array = np.array([[1,2], [3,4]])\n",
        "np_array"
      ],
      "metadata": {
        "colab": {
          "base_uri": "https://localhost:8080/"
        },
        "id": "oYROb3-CqCR-",
        "outputId": "dee554b1-9662-40e2-e502-b8d456715d3a"
      },
      "execution_count": null,
      "outputs": [
        {
          "output_type": "execute_result",
          "data": {
            "text/plain": [
              "array([[1, 2],\n",
              "       [3, 4]])"
            ]
          },
          "metadata": {},
          "execution_count": 4
        }
      ]
    },
    {
      "cell_type": "code",
      "source": [
        "np_array.shape"
      ],
      "metadata": {
        "colab": {
          "base_uri": "https://localhost:8080/"
        },
        "id": "saisVcnMqL5a",
        "outputId": "a398f47d-8310-49e1-b53b-60b4f41fae2e"
      },
      "execution_count": null,
      "outputs": [
        {
          "output_type": "execute_result",
          "data": {
            "text/plain": [
              "(2, 2)"
            ]
          },
          "metadata": {},
          "execution_count": 5
        }
      ]
    },
    {
      "cell_type": "code",
      "source": [
        "np_array.dtype"
      ],
      "metadata": {
        "colab": {
          "base_uri": "https://localhost:8080/"
        },
        "id": "EBgF84PNqPsc",
        "outputId": "9c33bca6-a704-43a1-bf91-4e84d1a7097a"
      },
      "execution_count": null,
      "outputs": [
        {
          "output_type": "execute_result",
          "data": {
            "text/plain": [
              "dtype('int64')"
            ]
          },
          "metadata": {},
          "execution_count": 7
        }
      ]
    },
    {
      "cell_type": "code",
      "source": [
        "data = [[1,2],[3,4]]"
      ],
      "metadata": {
        "id": "uC86hPFZqTCi"
      },
      "execution_count": null,
      "outputs": []
    },
    {
      "cell_type": "code",
      "source": [
        "data"
      ],
      "metadata": {
        "colab": {
          "base_uri": "https://localhost:8080/"
        },
        "id": "D-J6DccKqduh",
        "outputId": "9d7316e9-805c-4ac0-c06f-b9ff1e3c05b1"
      },
      "execution_count": null,
      "outputs": [
        {
          "output_type": "execute_result",
          "data": {
            "text/plain": [
              "[[1, 2], [3, 4]]"
            ]
          },
          "metadata": {},
          "execution_count": 9
        }
      ]
    },
    {
      "cell_type": "code",
      "source": [
        "type(data)"
      ],
      "metadata": {
        "colab": {
          "base_uri": "https://localhost:8080/"
        },
        "id": "HvdYr0kiqepa",
        "outputId": "963f857e-de28-4f67-fb78-8a357bb6833c"
      },
      "execution_count": null,
      "outputs": [
        {
          "output_type": "execute_result",
          "data": {
            "text/plain": [
              "list"
            ]
          },
          "metadata": {},
          "execution_count": 10
        }
      ]
    },
    {
      "cell_type": "code",
      "source": [
        "x_data = torch.tensor(data)\n",
        "x_data"
      ],
      "metadata": {
        "colab": {
          "base_uri": "https://localhost:8080/"
        },
        "id": "ob9Yx2_Fqf8b",
        "outputId": "9b7b2e22-f8cc-4df4-ae40-e4a7cdf14024"
      },
      "execution_count": null,
      "outputs": [
        {
          "output_type": "execute_result",
          "data": {
            "text/plain": [
              "tensor([[1, 2],\n",
              "        [3, 4]])"
            ]
          },
          "metadata": {},
          "execution_count": 11
        }
      ]
    },
    {
      "cell_type": "code",
      "source": [
        "x_np=torch.from_numpy(np_array)\n",
        "x_np"
      ],
      "metadata": {
        "colab": {
          "base_uri": "https://localhost:8080/"
        },
        "id": "MCylBipHqnFK",
        "outputId": "a3e37188-66ac-4634-ac76-cfe7e898d30b"
      },
      "execution_count": null,
      "outputs": [
        {
          "output_type": "execute_result",
          "data": {
            "text/plain": [
              "tensor([[1, 2],\n",
              "        [3, 4]])"
            ]
          },
          "metadata": {},
          "execution_count": 12
        }
      ]
    },
    {
      "cell_type": "code",
      "source": [
        "x_ones = torch.ones_like(x_data)\n",
        "x_ones"
      ],
      "metadata": {
        "colab": {
          "base_uri": "https://localhost:8080/"
        },
        "id": "igk--cpzqvMy",
        "outputId": "10e5c4e3-fe17-414d-f916-1cfbe7584f30"
      },
      "execution_count": null,
      "outputs": [
        {
          "output_type": "execute_result",
          "data": {
            "text/plain": [
              "tensor([[1, 1],\n",
              "        [1, 1]])"
            ]
          },
          "metadata": {},
          "execution_count": 13
        }
      ]
    },
    {
      "cell_type": "code",
      "source": [
        "x_rand = torch.rand_like(x_data, dtype=torch.float)\n",
        "x_rand"
      ],
      "metadata": {
        "colab": {
          "base_uri": "https://localhost:8080/"
        },
        "id": "HlmKRG3eq7mC",
        "outputId": "bc928d7b-0c91-4ad3-a210-6c04948b0694"
      },
      "execution_count": null,
      "outputs": [
        {
          "output_type": "execute_result",
          "data": {
            "text/plain": [
              "tensor([[0.3378, 0.0612],\n",
              "        [0.1837, 0.0666]])"
            ]
          },
          "metadata": {},
          "execution_count": 14
        }
      ]
    },
    {
      "cell_type": "code",
      "source": [
        "shape = (3,2,)\n",
        "ones_tensor = torch.ones(shape)\n",
        "ones_tensor"
      ],
      "metadata": {
        "colab": {
          "base_uri": "https://localhost:8080/"
        },
        "id": "GQfGUFPArApJ",
        "outputId": "cf4c3cf9-de9d-4623-9109-6d0b872a2a6a"
      },
      "execution_count": null,
      "outputs": [
        {
          "output_type": "execute_result",
          "data": {
            "text/plain": [
              "tensor([[1., 1.],\n",
              "        [1., 1.],\n",
              "        [1., 1.]])"
            ]
          },
          "metadata": {},
          "execution_count": 15
        }
      ]
    },
    {
      "cell_type": "code",
      "source": [
        "rand_tensor = torch.rand(shape)\n",
        "rand_tensor"
      ],
      "metadata": {
        "colab": {
          "base_uri": "https://localhost:8080/"
        },
        "id": "6W_Ky_h8rJZW",
        "outputId": "5bbb487d-6a5b-4426-dfda-9d99c441a21c"
      },
      "execution_count": null,
      "outputs": [
        {
          "output_type": "execute_result",
          "data": {
            "text/plain": [
              "tensor([[0.7635, 0.9036],\n",
              "        [0.4063, 0.0645],\n",
              "        [0.0947, 0.5747]])"
            ]
          },
          "metadata": {},
          "execution_count": 16
        }
      ]
    },
    {
      "cell_type": "code",
      "source": [
        "zeros_tensor = torch.zeros(shape)\n",
        "zeros_tensor"
      ],
      "metadata": {
        "colab": {
          "base_uri": "https://localhost:8080/"
        },
        "id": "0tsZ3Ib6rNeO",
        "outputId": "a36e2d25-2c45-4201-f63e-0b38026cb99a"
      },
      "execution_count": null,
      "outputs": [
        {
          "output_type": "execute_result",
          "data": {
            "text/plain": [
              "tensor([[0., 0.],\n",
              "        [0., 0.],\n",
              "        [0., 0.]])"
            ]
          },
          "metadata": {},
          "execution_count": 17
        }
      ]
    },
    {
      "cell_type": "code",
      "source": [
        "tensor = torch.rand(3,4)\n",
        "tensor"
      ],
      "metadata": {
        "colab": {
          "base_uri": "https://localhost:8080/"
        },
        "id": "jtO_0YvKrSgS",
        "outputId": "04b927a5-acd5-4f03-ed6c-5a7cfb4411f7"
      },
      "execution_count": null,
      "outputs": [
        {
          "output_type": "execute_result",
          "data": {
            "text/plain": [
              "tensor([[0.5581, 0.2644, 0.7615, 0.4376],\n",
              "        [0.3020, 0.8504, 0.7891, 0.5364],\n",
              "        [0.1441, 0.9068, 0.2402, 0.6005]])"
            ]
          },
          "metadata": {},
          "execution_count": 18
        }
      ]
    },
    {
      "cell_type": "code",
      "source": [
        "tensor.dtype"
      ],
      "metadata": {
        "colab": {
          "base_uri": "https://localhost:8080/"
        },
        "id": "OSMJ2aa7ra_7",
        "outputId": "0dd41c1c-efe0-47fb-9986-52f4e557a60e"
      },
      "execution_count": null,
      "outputs": [
        {
          "output_type": "execute_result",
          "data": {
            "text/plain": [
              "torch.float32"
            ]
          },
          "metadata": {},
          "execution_count": 19
        }
      ]
    },
    {
      "cell_type": "code",
      "source": [
        "tensor.shape"
      ],
      "metadata": {
        "colab": {
          "base_uri": "https://localhost:8080/"
        },
        "id": "36XttfM_rcEs",
        "outputId": "d82aa17b-21e3-4257-c31e-e9bc08590e79"
      },
      "execution_count": null,
      "outputs": [
        {
          "output_type": "execute_result",
          "data": {
            "text/plain": [
              "torch.Size([3, 4])"
            ]
          },
          "metadata": {},
          "execution_count": 20
        }
      ]
    },
    {
      "cell_type": "code",
      "source": [
        "tensor.device"
      ],
      "metadata": {
        "colab": {
          "base_uri": "https://localhost:8080/"
        },
        "id": "A4T0FcgQrc1A",
        "outputId": "bcbdf74d-a03f-48c5-c066-79ee11912e8a"
      },
      "execution_count": null,
      "outputs": [
        {
          "output_type": "execute_result",
          "data": {
            "text/plain": [
              "device(type='cpu')"
            ]
          },
          "metadata": {},
          "execution_count": 21
        }
      ]
    },
    {
      "cell_type": "code",
      "source": [
        "if (torch.cuda.is_available()):\n",
        "  tensor = tensor.to(\"cuda\")"
      ],
      "metadata": {
        "id": "TUPEvjc7re54"
      },
      "execution_count": null,
      "outputs": []
    },
    {
      "cell_type": "code",
      "source": [
        "tensor.device"
      ],
      "metadata": {
        "colab": {
          "base_uri": "https://localhost:8080/"
        },
        "id": "3dxRLtzPrq67",
        "outputId": "72f26040-6cbb-45e5-99fd-fe4491472298"
      },
      "execution_count": null,
      "outputs": [
        {
          "output_type": "execute_result",
          "data": {
            "text/plain": [
              "device(type='cuda', index=0)"
            ]
          },
          "metadata": {},
          "execution_count": 25
        }
      ]
    },
    {
      "cell_type": "code",
      "source": [
        "tensor= torch.rand(4,4)\n",
        "tensor"
      ],
      "metadata": {
        "colab": {
          "base_uri": "https://localhost:8080/"
        },
        "id": "Gzp333EtrzkN",
        "outputId": "ffa4a4ef-08d9-408d-b808-a3ca8c6e346b"
      },
      "execution_count": null,
      "outputs": [
        {
          "output_type": "execute_result",
          "data": {
            "text/plain": [
              "tensor([[0.9992, 0.8777, 0.1952, 0.1207],\n",
              "        [0.5218, 0.0974, 0.1198, 0.7613],\n",
              "        [0.3111, 0.8495, 0.8919, 0.9193],\n",
              "        [0.0618, 0.2755, 0.0824, 0.8384]])"
            ]
          },
          "metadata": {},
          "execution_count": 30
        }
      ]
    },
    {
      "cell_type": "code",
      "source": [
        "tensor[0]"
      ],
      "metadata": {
        "colab": {
          "base_uri": "https://localhost:8080/"
        },
        "id": "FLzjZL_6tDFy",
        "outputId": "ab0f616c-df0c-4f58-9f16-b44eedfd8425"
      },
      "execution_count": null,
      "outputs": [
        {
          "output_type": "execute_result",
          "data": {
            "text/plain": [
              "tensor([0.9992, 0.8777, 0.1952, 0.1207])"
            ]
          },
          "metadata": {},
          "execution_count": 31
        }
      ]
    },
    {
      "cell_type": "code",
      "source": [
        "tensor[:,0]"
      ],
      "metadata": {
        "colab": {
          "base_uri": "https://localhost:8080/"
        },
        "id": "iY7dgSFrtFa-",
        "outputId": "fc516c7c-ff4c-477e-e154-2a183a60ecca"
      },
      "execution_count": null,
      "outputs": [
        {
          "output_type": "execute_result",
          "data": {
            "text/plain": [
              "tensor([0.9992, 0.5218, 0.3111, 0.0618])"
            ]
          },
          "metadata": {},
          "execution_count": 32
        }
      ]
    },
    {
      "cell_type": "code",
      "source": [
        "tensor[...,-1]"
      ],
      "metadata": {
        "colab": {
          "base_uri": "https://localhost:8080/"
        },
        "id": "srCpDK9GtI0c",
        "outputId": "8478bff0-c4be-4204-da0f-a380e0043083"
      },
      "execution_count": null,
      "outputs": [
        {
          "output_type": "execute_result",
          "data": {
            "text/plain": [
              "tensor([0.1207, 0.7613, 0.9193, 0.8384])"
            ]
          },
          "metadata": {},
          "execution_count": 33
        }
      ]
    },
    {
      "cell_type": "code",
      "source": [
        "tensor[:,1]=0\n",
        "tensor"
      ],
      "metadata": {
        "colab": {
          "base_uri": "https://localhost:8080/"
        },
        "id": "vbA6tL7FtUrH",
        "outputId": "eeb95045-af47-4324-f177-08307b5c863a"
      },
      "execution_count": null,
      "outputs": [
        {
          "output_type": "execute_result",
          "data": {
            "text/plain": [
              "tensor([[0.9992, 0.0000, 0.1952, 0.1207],\n",
              "        [0.5218, 0.0000, 0.1198, 0.7613],\n",
              "        [0.3111, 0.0000, 0.8919, 0.9193],\n",
              "        [0.0618, 0.0000, 0.0824, 0.8384]])"
            ]
          },
          "metadata": {},
          "execution_count": 34
        }
      ]
    },
    {
      "cell_type": "code",
      "source": [
        "t1=torch.cat([tensor, tensor, tensor], dim=1)\n",
        "t1"
      ],
      "metadata": {
        "colab": {
          "base_uri": "https://localhost:8080/"
        },
        "id": "5dIjsxTctdVF",
        "outputId": "419f5b7b-0dfb-4aab-a104-6e9762ad02ed"
      },
      "execution_count": null,
      "outputs": [
        {
          "output_type": "execute_result",
          "data": {
            "text/plain": [
              "tensor([[0.9992, 0.0000, 0.1952, 0.1207, 0.9992, 0.0000, 0.1952, 0.1207, 0.9992,\n",
              "         0.0000, 0.1952, 0.1207],\n",
              "        [0.5218, 0.0000, 0.1198, 0.7613, 0.5218, 0.0000, 0.1198, 0.7613, 0.5218,\n",
              "         0.0000, 0.1198, 0.7613],\n",
              "        [0.3111, 0.0000, 0.8919, 0.9193, 0.3111, 0.0000, 0.8919, 0.9193, 0.3111,\n",
              "         0.0000, 0.8919, 0.9193],\n",
              "        [0.0618, 0.0000, 0.0824, 0.8384, 0.0618, 0.0000, 0.0824, 0.8384, 0.0618,\n",
              "         0.0000, 0.0824, 0.8384]])"
            ]
          },
          "metadata": {},
          "execution_count": 35
        }
      ]
    },
    {
      "cell_type": "code",
      "source": [
        "t1.shape"
      ],
      "metadata": {
        "colab": {
          "base_uri": "https://localhost:8080/"
        },
        "id": "HZHF0Xertr4u",
        "outputId": "bee9be9b-e76e-43fe-c2ec-0e6afbdd6c26"
      },
      "execution_count": null,
      "outputs": [
        {
          "output_type": "execute_result",
          "data": {
            "text/plain": [
              "torch.Size([4, 12])"
            ]
          },
          "metadata": {},
          "execution_count": 36
        }
      ]
    },
    {
      "cell_type": "code",
      "source": [
        "t2=torch.cat([tensor,tensor,tensor])\n",
        "t2"
      ],
      "metadata": {
        "colab": {
          "base_uri": "https://localhost:8080/"
        },
        "id": "DxYHdPwIt7mo",
        "outputId": "2488f2a6-f745-4cfb-b315-2154e7ea83f9"
      },
      "execution_count": null,
      "outputs": [
        {
          "output_type": "execute_result",
          "data": {
            "text/plain": [
              "tensor([[0.9992, 0.0000, 0.1952, 0.1207],\n",
              "        [0.5218, 0.0000, 0.1198, 0.7613],\n",
              "        [0.3111, 0.0000, 0.8919, 0.9193],\n",
              "        [0.0618, 0.0000, 0.0824, 0.8384],\n",
              "        [0.9992, 0.0000, 0.1952, 0.1207],\n",
              "        [0.5218, 0.0000, 0.1198, 0.7613],\n",
              "        [0.3111, 0.0000, 0.8919, 0.9193],\n",
              "        [0.0618, 0.0000, 0.0824, 0.8384],\n",
              "        [0.9992, 0.0000, 0.1952, 0.1207],\n",
              "        [0.5218, 0.0000, 0.1198, 0.7613],\n",
              "        [0.3111, 0.0000, 0.8919, 0.9193],\n",
              "        [0.0618, 0.0000, 0.0824, 0.8384]])"
            ]
          },
          "metadata": {},
          "execution_count": 37
        }
      ]
    },
    {
      "cell_type": "code",
      "source": [
        "t2.shape"
      ],
      "metadata": {
        "colab": {
          "base_uri": "https://localhost:8080/"
        },
        "id": "QuHRvt80uA4T",
        "outputId": "edf2b2bd-4495-42c5-f098-873e505f8805"
      },
      "execution_count": null,
      "outputs": [
        {
          "output_type": "execute_result",
          "data": {
            "text/plain": [
              "torch.Size([12, 4])"
            ]
          },
          "metadata": {},
          "execution_count": 38
        }
      ]
    },
    {
      "cell_type": "code",
      "source": [
        "tensor"
      ],
      "metadata": {
        "colab": {
          "base_uri": "https://localhost:8080/"
        },
        "id": "1kiCSMsnuDSv",
        "outputId": "bd8a0c0c-a6fb-42db-da37-77ad76f8e7eb"
      },
      "execution_count": null,
      "outputs": [
        {
          "output_type": "execute_result",
          "data": {
            "text/plain": [
              "tensor([[0.9992, 0.0000, 0.1952, 0.1207],\n",
              "        [0.5218, 0.0000, 0.1198, 0.7613],\n",
              "        [0.3111, 0.0000, 0.8919, 0.9193],\n",
              "        [0.0618, 0.0000, 0.0824, 0.8384]])"
            ]
          },
          "metadata": {},
          "execution_count": 39
        }
      ]
    },
    {
      "cell_type": "code",
      "source": [
        "tensor.T"
      ],
      "metadata": {
        "colab": {
          "base_uri": "https://localhost:8080/"
        },
        "id": "qEPdfc4RuLeW",
        "outputId": "85a57adb-51ce-4b8f-a2a2-7ac0e46ef045"
      },
      "execution_count": null,
      "outputs": [
        {
          "output_type": "execute_result",
          "data": {
            "text/plain": [
              "tensor([[0.9992, 0.5218, 0.3111, 0.0618],\n",
              "        [0.0000, 0.0000, 0.0000, 0.0000],\n",
              "        [0.1952, 0.1198, 0.8919, 0.0824],\n",
              "        [0.1207, 0.7613, 0.9193, 0.8384]])"
            ]
          },
          "metadata": {},
          "execution_count": 40
        }
      ]
    },
    {
      "cell_type": "code",
      "source": [
        "y1=tensor @ tensor.T\n",
        "y1"
      ],
      "metadata": {
        "colab": {
          "base_uri": "https://localhost:8080/"
        },
        "id": "BkWIoTwWuMwP",
        "outputId": "cc51e95d-d962-4648-ed55-c12cc642b05e"
      },
      "execution_count": null,
      "outputs": [
        {
          "output_type": "execute_result",
          "data": {
            "text/plain": [
              "tensor([[1.0510, 0.6366, 0.5959, 0.1791],\n",
              "        [0.6366, 0.8661, 0.9689, 0.6803],\n",
              "        [0.5959, 0.9689, 1.7374, 0.8634],\n",
              "        [0.1791, 0.6803, 0.8634, 0.7135]])"
            ]
          },
          "metadata": {},
          "execution_count": 43
        }
      ]
    },
    {
      "cell_type": "code",
      "source": [
        "y2 = tensor.matmul(tensor.T)\n",
        "y2"
      ],
      "metadata": {
        "colab": {
          "base_uri": "https://localhost:8080/"
        },
        "id": "oFuwW7chuQQT",
        "outputId": "3879787a-f95e-4007-ee70-b73f3141a29e"
      },
      "execution_count": null,
      "outputs": [
        {
          "output_type": "execute_result",
          "data": {
            "text/plain": [
              "tensor([[1.0510, 0.6366, 0.5959, 0.1791],\n",
              "        [0.6366, 0.8661, 0.9689, 0.6803],\n",
              "        [0.5959, 0.9689, 1.7374, 0.8634],\n",
              "        [0.1791, 0.6803, 0.8634, 0.7135]])"
            ]
          },
          "metadata": {},
          "execution_count": 44
        }
      ]
    },
    {
      "cell_type": "code",
      "source": [
        "y3=torch.rand_like(y1)\n",
        "torch.matmul(tensor, tensor.T, out=y3)\n",
        "y3"
      ],
      "metadata": {
        "colab": {
          "base_uri": "https://localhost:8080/"
        },
        "id": "elvdO0-eudB6",
        "outputId": "82fb416d-c78c-426d-e488-74b6a09a32a0"
      },
      "execution_count": null,
      "outputs": [
        {
          "output_type": "execute_result",
          "data": {
            "text/plain": [
              "tensor([[1.0510, 0.6366, 0.5959, 0.1791],\n",
              "        [0.6366, 0.8661, 0.9689, 0.6803],\n",
              "        [0.5959, 0.9689, 1.7374, 0.8634],\n",
              "        [0.1791, 0.6803, 0.8634, 0.7135]])"
            ]
          },
          "metadata": {},
          "execution_count": 45
        }
      ]
    },
    {
      "cell_type": "code",
      "source": [
        "agg = tensor.sum()\n",
        "agg"
      ],
      "metadata": {
        "colab": {
          "base_uri": "https://localhost:8080/"
        },
        "id": "TQyQEAmrun09",
        "outputId": "59f4a2c1-df27-4bf3-a02f-994a0f543bb4"
      },
      "execution_count": null,
      "outputs": [
        {
          "output_type": "execute_result",
          "data": {
            "text/plain": [
              "tensor(5.8228)"
            ]
          },
          "metadata": {},
          "execution_count": 46
        }
      ]
    },
    {
      "cell_type": "code",
      "source": [
        "agg_item=agg.item()\n",
        "agg_item"
      ],
      "metadata": {
        "colab": {
          "base_uri": "https://localhost:8080/"
        },
        "id": "Ce4g4F-Xu_1-",
        "outputId": "c2968134-662e-401e-e8d4-a95ac7fbd90e"
      },
      "execution_count": null,
      "outputs": [
        {
          "output_type": "execute_result",
          "data": {
            "text/plain": [
              "5.822810173034668"
            ]
          },
          "metadata": {},
          "execution_count": 47
        }
      ]
    },
    {
      "cell_type": "code",
      "source": [
        "type(agg), type(agg_item)"
      ],
      "metadata": {
        "colab": {
          "base_uri": "https://localhost:8080/"
        },
        "id": "pRx2PmbgvD_g",
        "outputId": "e670c60e-0215-4178-c3f6-2cde30f79cb8"
      },
      "execution_count": null,
      "outputs": [
        {
          "output_type": "execute_result",
          "data": {
            "text/plain": [
              "(torch.Tensor, float)"
            ]
          },
          "metadata": {},
          "execution_count": 48
        }
      ]
    },
    {
      "cell_type": "code",
      "source": [
        "tensor"
      ],
      "metadata": {
        "colab": {
          "base_uri": "https://localhost:8080/"
        },
        "id": "nVmdO-QCvHCL",
        "outputId": "61a95cdc-d516-47bd-dab3-ec339ae0fc8a"
      },
      "execution_count": null,
      "outputs": [
        {
          "output_type": "execute_result",
          "data": {
            "text/plain": [
              "tensor([[0.9992, 0.0000, 0.1952, 0.1207],\n",
              "        [0.5218, 0.0000, 0.1198, 0.7613],\n",
              "        [0.3111, 0.0000, 0.8919, 0.9193],\n",
              "        [0.0618, 0.0000, 0.0824, 0.8384]])"
            ]
          },
          "metadata": {},
          "execution_count": 49
        }
      ]
    },
    {
      "cell_type": "code",
      "source": [
        "tensor.add_(5)"
      ],
      "metadata": {
        "colab": {
          "base_uri": "https://localhost:8080/"
        },
        "id": "Q-Q_6HuAvUn_",
        "outputId": "f4a1d9e5-4089-423c-8a2b-56774b1595b0"
      },
      "execution_count": null,
      "outputs": [
        {
          "output_type": "execute_result",
          "data": {
            "text/plain": [
              "tensor([[5.9992, 5.0000, 5.1952, 5.1207],\n",
              "        [5.5218, 5.0000, 5.1198, 5.7613],\n",
              "        [5.3111, 5.0000, 5.8919, 5.9193],\n",
              "        [5.0618, 5.0000, 5.0824, 5.8384]])"
            ]
          },
          "metadata": {},
          "execution_count": 50
        }
      ]
    },
    {
      "cell_type": "code",
      "source": [
        "tensor"
      ],
      "metadata": {
        "colab": {
          "base_uri": "https://localhost:8080/"
        },
        "id": "dM0JaU6kvXUH",
        "outputId": "3944425e-b05d-44fd-c9c4-e5d0440217f9"
      },
      "execution_count": null,
      "outputs": [
        {
          "output_type": "execute_result",
          "data": {
            "text/plain": [
              "tensor([[5.9992, 5.0000, 5.1952, 5.1207],\n",
              "        [5.5218, 5.0000, 5.1198, 5.7613],\n",
              "        [5.3111, 5.0000, 5.8919, 5.9193],\n",
              "        [5.0618, 5.0000, 5.0824, 5.8384]])"
            ]
          },
          "metadata": {},
          "execution_count": 51
        }
      ]
    },
    {
      "cell_type": "code",
      "source": [
        "t = torch.ones(5)\n",
        "t"
      ],
      "metadata": {
        "colab": {
          "base_uri": "https://localhost:8080/"
        },
        "id": "x0BaeTjAvYn2",
        "outputId": "16e56bab-8ecb-4d26-f594-ee96cc832ba1"
      },
      "execution_count": null,
      "outputs": [
        {
          "output_type": "execute_result",
          "data": {
            "text/plain": [
              "tensor([1., 1., 1., 1., 1.])"
            ]
          },
          "metadata": {},
          "execution_count": 52
        }
      ]
    },
    {
      "cell_type": "code",
      "source": [
        "n=t.numpy()\n",
        "n"
      ],
      "metadata": {
        "colab": {
          "base_uri": "https://localhost:8080/"
        },
        "id": "zvzzRhqJvvEh",
        "outputId": "8c8a13f8-e96b-4d7f-c96f-bea91fbdda66"
      },
      "execution_count": null,
      "outputs": [
        {
          "output_type": "execute_result",
          "data": {
            "text/plain": [
              "array([1., 1., 1., 1., 1.], dtype=float32)"
            ]
          },
          "metadata": {},
          "execution_count": 53
        }
      ]
    },
    {
      "cell_type": "code",
      "source": [
        "t.add_(1)\n",
        "t"
      ],
      "metadata": {
        "colab": {
          "base_uri": "https://localhost:8080/"
        },
        "id": "sFWf77h_vzJb",
        "outputId": "37d02384-78cf-4f80-b10e-8c837246b89e"
      },
      "execution_count": null,
      "outputs": [
        {
          "output_type": "execute_result",
          "data": {
            "text/plain": [
              "tensor([2., 2., 2., 2., 2.])"
            ]
          },
          "metadata": {},
          "execution_count": 54
        }
      ]
    },
    {
      "cell_type": "code",
      "source": [
        "n"
      ],
      "metadata": {
        "colab": {
          "base_uri": "https://localhost:8080/"
        },
        "id": "1ElrXzR4v3tS",
        "outputId": "96a18692-b61e-47e4-e890-158bb4fab20c"
      },
      "execution_count": null,
      "outputs": [
        {
          "output_type": "execute_result",
          "data": {
            "text/plain": [
              "array([2., 2., 2., 2., 2.], dtype=float32)"
            ]
          },
          "metadata": {},
          "execution_count": 55
        }
      ]
    },
    {
      "cell_type": "code",
      "source": [
        "n = np.ones(5)\n",
        "n"
      ],
      "metadata": {
        "colab": {
          "base_uri": "https://localhost:8080/"
        },
        "id": "4A4UO5q8v4v8",
        "outputId": "93101e2d-10c3-41fa-fdbf-7f20dcaf564c"
      },
      "execution_count": null,
      "outputs": [
        {
          "output_type": "execute_result",
          "data": {
            "text/plain": [
              "array([1., 1., 1., 1., 1.])"
            ]
          },
          "metadata": {},
          "execution_count": 56
        }
      ]
    },
    {
      "cell_type": "code",
      "source": [
        "t = torch.from_numpy(n)\n",
        "t"
      ],
      "metadata": {
        "colab": {
          "base_uri": "https://localhost:8080/"
        },
        "id": "VtiMkLlpv9vf",
        "outputId": "3a91b9ff-eae5-480a-996d-952e5c86a4ba"
      },
      "execution_count": null,
      "outputs": [
        {
          "output_type": "execute_result",
          "data": {
            "text/plain": [
              "tensor([1., 1., 1., 1., 1.], dtype=torch.float64)"
            ]
          },
          "metadata": {},
          "execution_count": 57
        }
      ]
    },
    {
      "cell_type": "code",
      "source": [
        "np.add(n,1, out=n)\n",
        "n"
      ],
      "metadata": {
        "colab": {
          "base_uri": "https://localhost:8080/"
        },
        "id": "ezCiMDtfwC48",
        "outputId": "d2f6f9d4-1a65-4983-887e-7287b6c9472a"
      },
      "execution_count": null,
      "outputs": [
        {
          "output_type": "execute_result",
          "data": {
            "text/plain": [
              "array([2., 2., 2., 2., 2.])"
            ]
          },
          "metadata": {},
          "execution_count": 58
        }
      ]
    },
    {
      "cell_type": "code",
      "source": [
        "t"
      ],
      "metadata": {
        "id": "gW9oMINvwK7M",
        "outputId": "33608b1a-b46c-4a87-8475-2b9092daa22c",
        "colab": {
          "base_uri": "https://localhost:8080/"
        }
      },
      "execution_count": null,
      "outputs": [
        {
          "output_type": "execute_result",
          "data": {
            "text/plain": [
              "tensor([2., 2., 2., 2., 2.], dtype=torch.float64)"
            ]
          },
          "metadata": {},
          "execution_count": 59
        }
      ]
    },
    {
      "cell_type": "code",
      "source": [],
      "metadata": {
        "id": "o5v_3YemwMdL"
      },
      "execution_count": null,
      "outputs": []
    }
  ]
}